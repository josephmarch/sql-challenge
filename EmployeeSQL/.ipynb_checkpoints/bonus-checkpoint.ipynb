{
 "cells": [
  {
   "cell_type": "code",
   "execution_count": 1,
   "id": "b20543c6",
   "metadata": {},
   "outputs": [],
   "source": [
    "# Dependencies needed to import SQL database into Pandas using SQLAlchemy.\n",
    "%matplotlib notebook\n",
    "from sqlalchemy import create_engine\n",
    "import pandas as pd\n",
    "import matplotlib.pyplot as plt\n",
    "import numpy as np\n",
    "from config import db_location"
   ]
  },
  {
   "cell_type": "code",
   "execution_count": 2,
   "id": "87b967df",
   "metadata": {},
   "outputs": [],
   "source": [
    "# Create an engine to talk to the database.\n",
    "engine = create_engine(db_location)\n",
    "connection = engine.connect()"
   ]
  },
  {
   "cell_type": "code",
   "execution_count": null,
   "id": "3cb3a36e",
   "metadata": {},
   "outputs": [],
   "source": [
    "# Create a histogram to visualize the most common salary ranges for employees.\n",
    "sal_range_df = pd.read_sql(\"\", connection)"
   ]
  },
  {
   "cell_type": "code",
   "execution_count": 3,
   "id": "a7950142",
   "metadata": {},
   "outputs": [
    {
     "data": {
      "text/html": [
       "<div>\n",
       "<style scoped>\n",
       "    .dataframe tbody tr th:only-of-type {\n",
       "        vertical-align: middle;\n",
       "    }\n",
       "\n",
       "    .dataframe tbody tr th {\n",
       "        vertical-align: top;\n",
       "    }\n",
       "\n",
       "    .dataframe thead th {\n",
       "        text-align: right;\n",
       "    }\n",
       "</style>\n",
       "<table border=\"1\" class=\"dataframe\">\n",
       "  <thead>\n",
       "    <tr style=\"text-align: right;\">\n",
       "      <th></th>\n",
       "      <th>title</th>\n",
       "      <th>average salary</th>\n",
       "    </tr>\n",
       "  </thead>\n",
       "  <tbody>\n",
       "    <tr>\n",
       "      <th>0</th>\n",
       "      <td>Assistant Engineer</td>\n",
       "      <td>48564.43</td>\n",
       "    </tr>\n",
       "    <tr>\n",
       "      <th>1</th>\n",
       "      <td>Engineer</td>\n",
       "      <td>48535.34</td>\n",
       "    </tr>\n",
       "    <tr>\n",
       "      <th>2</th>\n",
       "      <td>Manager</td>\n",
       "      <td>51531.04</td>\n",
       "    </tr>\n",
       "    <tr>\n",
       "      <th>3</th>\n",
       "      <td>Senior Engineer</td>\n",
       "      <td>48506.80</td>\n",
       "    </tr>\n",
       "    <tr>\n",
       "      <th>4</th>\n",
       "      <td>Senior Staff</td>\n",
       "      <td>58550.17</td>\n",
       "    </tr>\n",
       "    <tr>\n",
       "      <th>5</th>\n",
       "      <td>Staff</td>\n",
       "      <td>58465.38</td>\n",
       "    </tr>\n",
       "    <tr>\n",
       "      <th>6</th>\n",
       "      <td>Technique Leader</td>\n",
       "      <td>48582.90</td>\n",
       "    </tr>\n",
       "  </tbody>\n",
       "</table>\n",
       "</div>"
      ],
      "text/plain": [
       "                title  average salary\n",
       "0  Assistant Engineer        48564.43\n",
       "1            Engineer        48535.34\n",
       "2             Manager        51531.04\n",
       "3     Senior Engineer        48506.80\n",
       "4        Senior Staff        58550.17\n",
       "5               Staff        58465.38\n",
       "6    Technique Leader        48582.90"
      ]
     },
     "execution_count": 3,
     "metadata": {},
     "output_type": "execute_result"
    }
   ],
   "source": [
    "# Create a bar chart of average salary by title\n",
    "avg_salary_df = pd.read_sql('SELECT t.title, ROUND(AVG(s.salary),2) AS \"average salary\" FROM salaries AS s JOIN employees AS e ON e.emp_no=s.emp_no JOIN titles AS t ON e.emp_title_id=t.title_id GROUP BY t.title;', connection)\n",
    "avg_salary_df"
   ]
  },
  {
   "cell_type": "code",
   "execution_count": null,
   "id": "9beb48b4",
   "metadata": {},
   "outputs": [],
   "source": []
  }
 ],
 "metadata": {
  "kernelspec": {
   "display_name": "Python 3",
   "language": "python",
   "name": "python3"
  },
  "language_info": {
   "codemirror_mode": {
    "name": "ipython",
    "version": 3
   },
   "file_extension": ".py",
   "mimetype": "text/x-python",
   "name": "python",
   "nbconvert_exporter": "python",
   "pygments_lexer": "ipython3",
   "version": "3.8.8"
  }
 },
 "nbformat": 4,
 "nbformat_minor": 5
}
